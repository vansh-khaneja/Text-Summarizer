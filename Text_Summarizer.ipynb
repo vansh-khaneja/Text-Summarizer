{
 "cells": [
  {
   "cell_type": "markdown",
   "id": "5819eb81",
   "metadata": {},
   "source": [
    "## Text Summarizer"
   ]
  },
  {
   "cell_type": "code",
   "execution_count": 20,
   "id": "4c27d66b",
   "metadata": {},
   "outputs": [],
   "source": [
    "data = '''The most interesting fact about nature is the diversity of nature. It is the true beauty of nature. The diversity in nature has important role to play in the lifecycle on earth. The variety of life species on the earth is known as biodiversity of nature. It refers to the diversity of plants, animals, organisms, birds, bees etc. It also includes small microorganisms, fungi, algae, bacteria and many other insects and tiny creatures. It encompasses the diverse nature of ecosystem such as forests, desserts, mountains, rainforests and oceans. All are these are a part of nature.\n",
    "\n",
    "Nature comprises of the connection between the life species, their habitat, their activities, living conditions and survival process. Biodiversity is measured higher in the tropical and floristic regions. The best studied species are mostly the large mammals. The diversity in nature cannot be measured in figures but all the living species large or tiny have an important role to play in nature. Biodiversity is responsible for balanced ecosystem. The spread of biodiversity varies across the globe depending on the soil, temperature, rainfall, altitude and geography.\n",
    "\n",
    "Benefits of Biodiversity\n",
    "\n",
    "More number of plant species provides us with greater variety of crops.\n",
    "The diversity of species ensures the sustainability of all the species.\n",
    "Healthy ecosystem can withstand several natural disasters.\n",
    "Plants ensure remineralization and increase soil nutrients.\n",
    "Plants provide us with food, medicinal resources, wood products, plants, diversity in genes and various species.\n",
    "The social benefits of biodiversity are research, education, tourism, recreation and more.\n",
    "It helps protect and preserve our water resources.\n",
    "The biodiversity of organisms and fungi is important in the decomposing of waste.\n",
    "Birds and butterflies play important role in seed dispersal and fertilization.\n",
    "Biodiversity plays important role in absorbing and reducing pollution.\n",
    "Conclusion\n",
    "\n",
    "Biodiversity is valuable to humans. Biodiversity forms the base of infinite economic services that contribute to overall well-being of humans. Growth in population and economic development has led to inefficient use of biodiversity. Biodiversity has threats from human activities. Exploiting biodiversity can cause loss of species important for natural balance. Preservation and sustainable use of biodiversity is vital. Biodiversity is a gift from nature and we all should shield and protect it from further harm.'''"
   ]
  },
  {
   "cell_type": "code",
   "execution_count": 21,
   "id": "b6a6096c",
   "metadata": {},
   "outputs": [],
   "source": [
    "from nltk import word_tokenize,sent_tokenize\n",
    "from nltk.corpus import stopwords\n",
    "from sklearn.feature_extraction.text import CountVectorizer\n",
    "import math"
   ]
  },
  {
   "cell_type": "code",
   "execution_count": 22,
   "id": "d3e26052",
   "metadata": {},
   "outputs": [],
   "source": [
    "stop_words = set(stopwords.words('english'))\n",
    "\n",
    "tokens = word_tokenize(data)\n",
    "new_sent = \"\"\n",
    "for word in tokens:\n",
    "    if(word not in stop_words):\n",
    "        new_sent+=\" \"+word.lower()\n",
    "sent_tokens = sent_tokenize(new_sent)        "
   ]
  },
  {
   "cell_type": "code",
   "execution_count": 23,
   "id": "366151a7",
   "metadata": {},
   "outputs": [],
   "source": [
    "sent_tokens\n",
    "\n",
    "new_sent_tokens = sent_tokenize(data) \n"
   ]
  },
  {
   "cell_type": "code",
   "execution_count": 24,
   "id": "2fb94e89",
   "metadata": {},
   "outputs": [],
   "source": [
    "cv = CountVectorizer()"
   ]
  },
  {
   "cell_type": "code",
   "execution_count": 25,
   "id": "6d2d985e",
   "metadata": {},
   "outputs": [],
   "source": [
    "cv_fit = cv.fit_transform(sent_tokens)"
   ]
  },
  {
   "cell_type": "code",
   "execution_count": 26,
   "id": "777c7083",
   "metadata": {},
   "outputs": [],
   "source": [
    "freq = cv_fit.toarray().sum(axis=0)/max(cv_fit.toarray().sum(axis=0))"
   ]
  },
  {
   "cell_type": "code",
   "execution_count": 27,
   "id": "13b95d4f",
   "metadata": {},
   "outputs": [],
   "source": [
    "word = cv.get_feature_names_out()"
   ]
  },
  {
   "cell_type": "code",
   "execution_count": 28,
   "id": "c9340d50",
   "metadata": {},
   "outputs": [
    {
     "data": {
      "text/plain": [
       "{'absorbing': 0.06666666666666667,\n",
       " 'across': 0.06666666666666667,\n",
       " 'activities': 0.13333333333333333,\n",
       " 'algae': 0.06666666666666667,\n",
       " 'all': 0.06666666666666667,\n",
       " 'also': 0.06666666666666667,\n",
       " 'altitude': 0.06666666666666667,\n",
       " 'animals': 0.06666666666666667,\n",
       " 'bacteria': 0.06666666666666667,\n",
       " 'balance': 0.06666666666666667,\n",
       " 'balanced': 0.06666666666666667,\n",
       " 'base': 0.06666666666666667,\n",
       " 'beauty': 0.06666666666666667,\n",
       " 'bees': 0.06666666666666667,\n",
       " 'being': 0.06666666666666667,\n",
       " 'benefits': 0.13333333333333333,\n",
       " 'best': 0.06666666666666667,\n",
       " 'biodiversity': 1.0,\n",
       " 'birds': 0.13333333333333333,\n",
       " 'butterflies': 0.06666666666666667,\n",
       " 'cause': 0.06666666666666667,\n",
       " 'comprises': 0.06666666666666667,\n",
       " 'conclusion': 0.06666666666666667,\n",
       " 'conditions': 0.06666666666666667,\n",
       " 'connection': 0.06666666666666667,\n",
       " 'contribute': 0.06666666666666667,\n",
       " 'creatures': 0.06666666666666667,\n",
       " 'crops': 0.06666666666666667,\n",
       " 'decomposing': 0.06666666666666667,\n",
       " 'depending': 0.06666666666666667,\n",
       " 'desserts': 0.06666666666666667,\n",
       " 'development': 0.06666666666666667,\n",
       " 'disasters': 0.06666666666666667,\n",
       " 'dispersal': 0.06666666666666667,\n",
       " 'diverse': 0.06666666666666667,\n",
       " 'diversity': 0.4,\n",
       " 'earth': 0.13333333333333333,\n",
       " 'economic': 0.13333333333333333,\n",
       " 'ecosystem': 0.2,\n",
       " 'education': 0.06666666666666667,\n",
       " 'encompasses': 0.06666666666666667,\n",
       " 'ensure': 0.06666666666666667,\n",
       " 'ensures': 0.06666666666666667,\n",
       " 'etc': 0.06666666666666667,\n",
       " 'exploiting': 0.06666666666666667,\n",
       " 'fact': 0.06666666666666667,\n",
       " 'fertilization': 0.06666666666666667,\n",
       " 'figures': 0.06666666666666667,\n",
       " 'floristic': 0.06666666666666667,\n",
       " 'food': 0.06666666666666667,\n",
       " 'forests': 0.06666666666666667,\n",
       " 'forms': 0.06666666666666667,\n",
       " 'fungi': 0.13333333333333333,\n",
       " 'genes': 0.06666666666666667,\n",
       " 'geography': 0.06666666666666667,\n",
       " 'gift': 0.06666666666666667,\n",
       " 'globe': 0.06666666666666667,\n",
       " 'greater': 0.06666666666666667,\n",
       " 'growth': 0.06666666666666667,\n",
       " 'habitat': 0.06666666666666667,\n",
       " 'harm': 0.06666666666666667,\n",
       " 'healthy': 0.06666666666666667,\n",
       " 'helps': 0.06666666666666667,\n",
       " 'higher': 0.06666666666666667,\n",
       " 'human': 0.06666666666666667,\n",
       " 'humans': 0.13333333333333333,\n",
       " 'important': 0.4,\n",
       " 'includes': 0.06666666666666667,\n",
       " 'increase': 0.06666666666666667,\n",
       " 'inefficient': 0.06666666666666667,\n",
       " 'infinite': 0.06666666666666667,\n",
       " 'insects': 0.06666666666666667,\n",
       " 'interesting': 0.06666666666666667,\n",
       " 'it': 0.3333333333333333,\n",
       " 'known': 0.06666666666666667,\n",
       " 'large': 0.13333333333333333,\n",
       " 'led': 0.06666666666666667,\n",
       " 'life': 0.13333333333333333,\n",
       " 'lifecycle': 0.06666666666666667,\n",
       " 'living': 0.13333333333333333,\n",
       " 'loss': 0.06666666666666667,\n",
       " 'mammals': 0.06666666666666667,\n",
       " 'many': 0.06666666666666667,\n",
       " 'measured': 0.13333333333333333,\n",
       " 'medicinal': 0.06666666666666667,\n",
       " 'microorganisms': 0.06666666666666667,\n",
       " 'more': 0.06666666666666667,\n",
       " 'mostly': 0.06666666666666667,\n",
       " 'mountains': 0.06666666666666667,\n",
       " 'natural': 0.13333333333333333,\n",
       " 'nature': 0.7333333333333333,\n",
       " 'number': 0.06666666666666667,\n",
       " 'nutrients': 0.06666666666666667,\n",
       " 'oceans': 0.06666666666666667,\n",
       " 'organisms': 0.13333333333333333,\n",
       " 'overall': 0.06666666666666667,\n",
       " 'part': 0.06666666666666667,\n",
       " 'plant': 0.06666666666666667,\n",
       " 'plants': 0.26666666666666666,\n",
       " 'play': 0.2,\n",
       " 'plays': 0.06666666666666667,\n",
       " 'pollution': 0.06666666666666667,\n",
       " 'population': 0.06666666666666667,\n",
       " 'preservation': 0.06666666666666667,\n",
       " 'preserve': 0.06666666666666667,\n",
       " 'process': 0.06666666666666667,\n",
       " 'products': 0.06666666666666667,\n",
       " 'protect': 0.13333333333333333,\n",
       " 'provide': 0.06666666666666667,\n",
       " 'provides': 0.06666666666666667,\n",
       " 'rainfall': 0.06666666666666667,\n",
       " 'rainforests': 0.06666666666666667,\n",
       " 'recreation': 0.06666666666666667,\n",
       " 'reducing': 0.06666666666666667,\n",
       " 'refers': 0.06666666666666667,\n",
       " 'regions': 0.06666666666666667,\n",
       " 'remineralization': 0.06666666666666667,\n",
       " 'research': 0.06666666666666667,\n",
       " 'resources': 0.13333333333333333,\n",
       " 'responsible': 0.06666666666666667,\n",
       " 'role': 0.26666666666666666,\n",
       " 'seed': 0.06666666666666667,\n",
       " 'services': 0.06666666666666667,\n",
       " 'several': 0.06666666666666667,\n",
       " 'shield': 0.06666666666666667,\n",
       " 'small': 0.06666666666666667,\n",
       " 'social': 0.06666666666666667,\n",
       " 'soil': 0.13333333333333333,\n",
       " 'species': 0.6,\n",
       " 'spread': 0.06666666666666667,\n",
       " 'studied': 0.06666666666666667,\n",
       " 'survival': 0.06666666666666667,\n",
       " 'sustainability': 0.06666666666666667,\n",
       " 'sustainable': 0.06666666666666667,\n",
       " 'temperature': 0.06666666666666667,\n",
       " 'the': 0.6,\n",
       " 'threats': 0.06666666666666667,\n",
       " 'tiny': 0.13333333333333333,\n",
       " 'tourism': 0.06666666666666667,\n",
       " 'tropical': 0.06666666666666667,\n",
       " 'true': 0.06666666666666667,\n",
       " 'us': 0.13333333333333333,\n",
       " 'use': 0.13333333333333333,\n",
       " 'valuable': 0.06666666666666667,\n",
       " 'varies': 0.06666666666666667,\n",
       " 'variety': 0.13333333333333333,\n",
       " 'various': 0.06666666666666667,\n",
       " 'vital': 0.06666666666666667,\n",
       " 'waste': 0.06666666666666667,\n",
       " 'water': 0.06666666666666667,\n",
       " 'well': 0.06666666666666667,\n",
       " 'withstand': 0.06666666666666667,\n",
       " 'wood': 0.06666666666666667}"
      ]
     },
     "execution_count": 28,
     "metadata": {},
     "output_type": "execute_result"
    }
   ],
   "source": [
    "word2freq = dict(zip(word,freq))\n",
    "word2freq\n"
   ]
  },
  {
   "cell_type": "code",
   "execution_count": 29,
   "id": "f6bf3869",
   "metadata": {},
   "outputs": [],
   "source": [
    "sent_list = []\n",
    "for i in sent_tokens:\n",
    "    fre=0\n",
    "    wordss = word_tokenize(i)\n",
    "    for j in wordss:\n",
    "        if(j in word):\n",
    "            fre+=word2freq[j]\n",
    "    sent_list.append(fre)   "
   ]
  },
  {
   "cell_type": "code",
   "execution_count": 30,
   "id": "b0eb0c7b",
   "metadata": {},
   "outputs": [
    {
     "data": {
      "text/plain": [
       "[2.6,\n",
       " 1.2,\n",
       " 2.8000000000000003,\n",
       " 3.4,\n",
       " 1.5333333333333332,\n",
       " 1.2,\n",
       " 1.7333333333333332,\n",
       " 0.8666666666666666,\n",
       " 2.1333333333333333,\n",
       " 1.4,\n",
       " 1.5999999999999999,\n",
       " 4.533333333333333,\n",
       " 1.3333333333333333,\n",
       " 2.333333333333334,\n",
       " 2.4000000000000004,\n",
       " 2.3333333333333335,\n",
       " 0.6,\n",
       " 0.6666666666666666,\n",
       " 2.2666666666666666,\n",
       " 2.0666666666666664,\n",
       " 0.7999999999999999,\n",
       " 2.4000000000000004,\n",
       " 1.2666666666666666,\n",
       " 1.9333333333333333,\n",
       " 1.2666666666666666,\n",
       " 1.6666666666666665,\n",
       " 1.6,\n",
       " 1.2666666666666666,\n",
       " 2.4,\n",
       " 1.3333333333333333,\n",
       " 2.0666666666666664]"
      ]
     },
     "execution_count": 30,
     "metadata": {},
     "output_type": "execute_result"
    }
   ],
   "source": [
    "sent_list"
   ]
  },
  {
   "cell_type": "code",
   "execution_count": 32,
   "id": "087224c4",
   "metadata": {},
   "outputs": [],
   "source": [
    "no_of_lines = math.ceil(len(sent_list)/2)\n",
    "brief_list = []\n",
    "for i in range(no_of_lines):\n",
    "    brief_list.append(new_sent_tokens[sent_list.index(max(sent_list))])\n",
    "    sent_list.pop(sent_list.index(max(sent_list)))\n"
   ]
  },
  {
   "cell_type": "code",
   "execution_count": 33,
   "id": "3c66183d",
   "metadata": {},
   "outputs": [
    {
     "data": {
      "text/plain": [
       "'It encompasses the diverse nature of ecosystem such as forests, desserts, mountains, rainforests and oceans. It encompasses the diverse nature of ecosystem such as forests, desserts, mountains, rainforests and oceans. Biodiversity is measured higher in the tropical and floristic regions. The variety of life species on the earth is known as biodiversity of nature. The variety of life species on the earth is known as biodiversity of nature. It is the true beauty of nature. It also includes small microorganisms, fungi, algae, bacteria and many other insects and tiny creatures. Biodiversity is responsible for balanced ecosystem.'"
      ]
     },
     "execution_count": 33,
     "metadata": {},
     "output_type": "execute_result"
    }
   ],
   "source": [
    "\" \".join(brief_list[::-1])"
   ]
  }
 ],
 "metadata": {
  "kernelspec": {
   "display_name": "Python 3 (ipykernel)",
   "language": "python",
   "name": "python3"
  },
  "language_info": {
   "codemirror_mode": {
    "name": "ipython",
    "version": 3
   },
   "file_extension": ".py",
   "mimetype": "text/x-python",
   "name": "python",
   "nbconvert_exporter": "python",
   "pygments_lexer": "ipython3",
   "version": "3.11.4"
  }
 },
 "nbformat": 4,
 "nbformat_minor": 5
}
